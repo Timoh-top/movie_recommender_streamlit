{
  "nbformat": 4,
  "nbformat_minor": 0,
  "metadata": {
    "colab": {
      "provenance": [],
      "authorship_tag": "ABX9TyNuV0jEqZBg/E89uKk4rakC",
      "include_colab_link": true
    },
    "kernelspec": {
      "name": "python3",
      "display_name": "Python 3"
    },
    "language_info": {
      "name": "python"
    }
  },
  "cells": [
    {
      "cell_type": "markdown",
      "metadata": {
        "id": "view-in-github",
        "colab_type": "text"
      },
      "source": [
        "<a href=\"https://colab.research.google.com/github/Timoh-top/movie_recommender_streamlit/blob/main/movie_recommender_streamlit.ipynb\" target=\"_parent\"><img src=\"https://colab.research.google.com/assets/colab-badge.svg\" alt=\"Open In Colab\"/></a>"
      ]
    },
    {
      "cell_type": "code",
      "execution_count": null,
      "metadata": {
        "id": "YgrN_yCvpS4b"
      },
      "outputs": [],
      "source": [
        "# importing the needed libraries\n",
        "import pandas as pd\n",
        "import numpy as np\n",
        "from sklearn.feature_extraction.text import TfidfVectorizer\n",
        "from sklearn.metrics.pairwise import cosine_similarity\n",
        "import ast"
      ]
    },
    {
      "cell_type": "code",
      "source": [
        "# loading the dataset\n",
        "movies = pd.read_csv(\"/content/tmdb_5000_movies.csv\")"
      ],
      "metadata": {
        "id": "BQZcxsHOp-5W"
      },
      "execution_count": null,
      "outputs": []
    },
    {
      "cell_type": "code",
      "source": [
        "# observing the data attributes\n",
        "movies.info()\n",
        "movies.head()"
      ],
      "metadata": {
        "id": "n2vcqYPwqHjD"
      },
      "execution_count": null,
      "outputs": []
    },
    {
      "cell_type": "code",
      "source": [
        "# checking for the important columns\n",
        "movies[['title', 'genres', 'overview', 'keywords']].info()\n",
        "movies[['title', 'genres', 'overview', 'keywords']].head()"
      ],
      "metadata": {
        "id": "GSG3jq4CqNIe"
      },
      "execution_count": null,
      "outputs": []
    },
    {
      "cell_type": "code",
      "source": [
        "# fill missing overview\n",
        "movies['overview'] = movies['overview'].fillna('')\n",
        "movies[\"overview\"].info()"
      ],
      "metadata": {
        "id": "su2O8NCNsuHZ"
      },
      "execution_count": null,
      "outputs": []
    },
    {
      "cell_type": "markdown",
      "source": [
        "**DATA PREPROCESSING**"
      ],
      "metadata": {
        "id": "TL-G6JlsuliB"
      }
    },
    {
      "cell_type": "code",
      "source": [
        "import ast\n",
        "\n",
        "def parse_features(x):\n",
        "    try:\n",
        "        items = ast.literal_eval(x)\n",
        "        return ' '.join([i['name'] for i in items])\n",
        "    except:\n",
        "        return ''"
      ],
      "metadata": {
        "id": "p6UwoKwxtsuJ"
      },
      "execution_count": null,
      "outputs": []
    },
    {
      "cell_type": "code",
      "source": [
        "movies['genres_parsed'] = movies['genres'].apply(parse_features)\n",
        "movies['keywords_parsed'] = movies['keywords'].apply(parse_features)\n",
        "\n",
        "movies['combined_features'] = movies['overview'] + ' ' + movies['genres_parsed'] + ' ' + movies['keywords_parsed']\n",
        "movies['combined_features'].head()"
      ],
      "metadata": {
        "id": "3RQZ5MyNu42T"
      },
      "execution_count": null,
      "outputs": []
    },
    {
      "cell_type": "markdown",
      "source": [
        "**TF-IDF VECTORIZATION**"
      ],
      "metadata": {
        "id": "gaDukGDgvZ2M"
      }
    },
    {
      "cell_type": "code",
      "source": [
        "tfidf = TfidfVectorizer(stop_words='english', max_features=10000, ngram_range=(1, 2))\n",
        "\n",
        "tfidf_matrix = tfidf.fit_transform(movies['combined_features'])\n",
        "\n",
        "print(tfidf_matrix.shape)"
      ],
      "metadata": {
        "id": "cAJOkCV5u9WD"
      },
      "execution_count": null,
      "outputs": []
    },
    {
      "cell_type": "code",
      "source": [
        "# Cosine similarity matrix\n",
        "cosine_sim = cosine_similarity(tfidf_matrix, tfidf_matrix)"
      ],
      "metadata": {
        "id": "Rmq5VhravUTa"
      },
      "execution_count": null,
      "outputs": []
    },
    {
      "cell_type": "code",
      "source": [
        "# Recommendation function\n",
        "indices = pd.Series(movies.index, index=movies['title']).drop_duplicates()\n",
        "\n",
        "def recommend_movies(title, cosine_sim=cosine_sim, n=10):\n",
        "    idx = indices[title]\n",
        "    sim_scores = list(enumerate(cosine_sim[idx]))\n",
        "    sim_scores = sorted(sim_scores, key=lambda x: x[1], reverse=True)\n",
        "    sim_scores = sim_scores[1:n+1]  # Skip the movie itself\n",
        "    movie_indices = [i[0] for i in sim_scores]\n",
        "    return movies['title'].iloc[movie_indices]\n",
        "\n",
        "# Example test\n",
        "recommend_movies('The Dark Knight')"
      ],
      "metadata": {
        "id": "IruCkRpCvuC5"
      },
      "execution_count": null,
      "outputs": []
    },
    {
      "cell_type": "code",
      "source": [
        "recommend_movies('Titanic')"
      ],
      "metadata": {
        "id": "GuF4q3ugv7lo"
      },
      "execution_count": null,
      "outputs": []
    }
  ]
}